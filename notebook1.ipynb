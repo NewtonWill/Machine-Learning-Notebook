{
 "cells": [
  {
   "cell_type": "code",
   "id": "initial_id",
   "metadata": {
    "ExecuteTime": {
     "end_time": "2024-08-16T19:56:28.106299Z",
     "start_time": "2024-08-16T19:56:27.475767Z"
    }
   },
   "source": [
    "import pandas as pd\n",
    "import numpy as np\n",
    "import ipywidgets as widgets\n",
    "import matplotlib.pyplot as plt\n",
    "import seaborn as sns\n",
    "from sklearn.model_selection import train_test_split\n",
    "from sklearn.linear_model import LinearRegression\n",
    "from sklearn.metrics import mean_squared_error\n",
    "\n",
    "column_names = ['Last Name','First Name','Dyslexia','Academic Level','Special Ed','ESL Level','Behavior','Management Index']\n",
    "df = pd.read_csv('DataSet2.csv', names = column_names) #read CSV into Python as a dataframe\n",
    "\n",
    "X = df.drop(columns=['Last Name', 'First Name', 'Management Index']) #indpendent variables\n",
    "y = df[['Management Index']].copy() #dependent variables\n",
    "\n",
    "X_train, X_test, y_train, y_test = train_test_split(X, y, test_size=0.333, random_state=41)\n",
    "\n",
    "from IPython.display import display_html \n",
    "X_train_styler = X_train.head(5).style.set_table_attributes(\"style='display:inline'\").set_caption('Independents variables')\n",
    "y_train_styler = y_train.head(5).style.set_table_attributes(\"style='display:inline'\").set_caption('Dependents variables')\n",
    "space = \"\\xa0\" * 10 #space between columns\n",
    "display_html(X_train_styler._repr_html_()+ space  + y_train_styler._repr_html_(), raw=True)"
   ],
   "outputs": [
    {
     "data": {
      "text/html": [
       "<style type=\"text/css\">\n",
       "</style>\n",
       "<table id=\"T_3c4c6\" style='display:inline'>\n",
       "  <caption>Independents variables</caption>\n",
       "  <thead>\n",
       "    <tr>\n",
       "      <th class=\"blank level0\" >&nbsp;</th>\n",
       "      <th id=\"T_3c4c6_level0_col0\" class=\"col_heading level0 col0\" >Dyslexia</th>\n",
       "      <th id=\"T_3c4c6_level0_col1\" class=\"col_heading level0 col1\" >Academic Level</th>\n",
       "      <th id=\"T_3c4c6_level0_col2\" class=\"col_heading level0 col2\" >Special Ed</th>\n",
       "      <th id=\"T_3c4c6_level0_col3\" class=\"col_heading level0 col3\" >ESL Level</th>\n",
       "      <th id=\"T_3c4c6_level0_col4\" class=\"col_heading level0 col4\" >Behavior</th>\n",
       "    </tr>\n",
       "  </thead>\n",
       "  <tbody>\n",
       "    <tr>\n",
       "      <th id=\"T_3c4c6_level0_row0\" class=\"row_heading level0 row0\" >29</th>\n",
       "      <td id=\"T_3c4c6_row0_col0\" class=\"data row0 col0\" >Yes</td>\n",
       "      <td id=\"T_3c4c6_row0_col1\" class=\"data row0 col1\" >Low</td>\n",
       "      <td id=\"T_3c4c6_row0_col2\" class=\"data row0 col2\" >No</td>\n",
       "      <td id=\"T_3c4c6_row0_col3\" class=\"data row0 col3\" >nan</td>\n",
       "      <td id=\"T_3c4c6_row0_col4\" class=\"data row0 col4\" >E</td>\n",
       "    </tr>\n",
       "    <tr>\n",
       "      <th id=\"T_3c4c6_level0_row1\" class=\"row_heading level0 row1\" >81</th>\n",
       "      <td id=\"T_3c4c6_row1_col0\" class=\"data row1 col0\" >No</td>\n",
       "      <td id=\"T_3c4c6_row1_col1\" class=\"data row1 col1\" >High</td>\n",
       "      <td id=\"T_3c4c6_row1_col2\" class=\"data row1 col2\" >No</td>\n",
       "      <td id=\"T_3c4c6_row1_col3\" class=\"data row1 col3\" >nan</td>\n",
       "      <td id=\"T_3c4c6_row1_col4\" class=\"data row1 col4\" >E</td>\n",
       "    </tr>\n",
       "    <tr>\n",
       "      <th id=\"T_3c4c6_level0_row2\" class=\"row_heading level0 row2\" >15</th>\n",
       "      <td id=\"T_3c4c6_row2_col0\" class=\"data row2 col0\" >No</td>\n",
       "      <td id=\"T_3c4c6_row2_col1\" class=\"data row2 col1\" >High</td>\n",
       "      <td id=\"T_3c4c6_row2_col2\" class=\"data row2 col2\" >No</td>\n",
       "      <td id=\"T_3c4c6_row2_col3\" class=\"data row2 col3\" >nan</td>\n",
       "      <td id=\"T_3c4c6_row2_col4\" class=\"data row2 col4\" >E</td>\n",
       "    </tr>\n",
       "    <tr>\n",
       "      <th id=\"T_3c4c6_level0_row3\" class=\"row_heading level0 row3\" >71</th>\n",
       "      <td id=\"T_3c4c6_row3_col0\" class=\"data row3 col0\" >No</td>\n",
       "      <td id=\"T_3c4c6_row3_col1\" class=\"data row3 col1\" >Low</td>\n",
       "      <td id=\"T_3c4c6_row3_col2\" class=\"data row3 col2\" >No</td>\n",
       "      <td id=\"T_3c4c6_row3_col3\" class=\"data row3 col3\" >nan</td>\n",
       "      <td id=\"T_3c4c6_row3_col4\" class=\"data row3 col4\" >S</td>\n",
       "    </tr>\n",
       "    <tr>\n",
       "      <th id=\"T_3c4c6_level0_row4\" class=\"row_heading level0 row4\" >47</th>\n",
       "      <td id=\"T_3c4c6_row4_col0\" class=\"data row4 col0\" >No</td>\n",
       "      <td id=\"T_3c4c6_row4_col1\" class=\"data row4 col1\" >Low</td>\n",
       "      <td id=\"T_3c4c6_row4_col2\" class=\"data row4 col2\" >No</td>\n",
       "      <td id=\"T_3c4c6_row4_col3\" class=\"data row4 col3\" >nan</td>\n",
       "      <td id=\"T_3c4c6_row4_col4\" class=\"data row4 col4\" >E</td>\n",
       "    </tr>\n",
       "  </tbody>\n",
       "</table>\n",
       "          <style type=\"text/css\">\n",
       "</style>\n",
       "<table id=\"T_48b8e\" style='display:inline'>\n",
       "  <caption>Dependents variables</caption>\n",
       "  <thead>\n",
       "    <tr>\n",
       "      <th class=\"blank level0\" >&nbsp;</th>\n",
       "      <th id=\"T_48b8e_level0_col0\" class=\"col_heading level0 col0\" >Management Index</th>\n",
       "    </tr>\n",
       "  </thead>\n",
       "  <tbody>\n",
       "    <tr>\n",
       "      <th id=\"T_48b8e_level0_row0\" class=\"row_heading level0 row0\" >29</th>\n",
       "      <td id=\"T_48b8e_row0_col0\" class=\"data row0 col0\" >8</td>\n",
       "    </tr>\n",
       "    <tr>\n",
       "      <th id=\"T_48b8e_level0_row1\" class=\"row_heading level0 row1\" >81</th>\n",
       "      <td id=\"T_48b8e_row1_col0\" class=\"data row1 col0\" >5</td>\n",
       "    </tr>\n",
       "    <tr>\n",
       "      <th id=\"T_48b8e_level0_row2\" class=\"row_heading level0 row2\" >15</th>\n",
       "      <td id=\"T_48b8e_row2_col0\" class=\"data row2 col0\" >5</td>\n",
       "    </tr>\n",
       "    <tr>\n",
       "      <th id=\"T_48b8e_level0_row3\" class=\"row_heading level0 row3\" >71</th>\n",
       "      <td id=\"T_48b8e_row3_col0\" class=\"data row3 col0\" >8</td>\n",
       "    </tr>\n",
       "    <tr>\n",
       "      <th id=\"T_48b8e_level0_row4\" class=\"row_heading level0 row4\" >47</th>\n",
       "      <td id=\"T_48b8e_row4_col0\" class=\"data row4 col0\" >7</td>\n",
       "    </tr>\n",
       "  </tbody>\n",
       "</table>\n"
      ]
     },
     "metadata": {},
     "output_type": "display_data"
    }
   ],
   "execution_count": 1
  },
  {
   "cell_type": "code",
   "id": "8b5b1d6819b61a5c",
   "metadata": {
    "ExecuteTime": {
     "end_time": "2024-08-16T19:56:28.225911Z",
     "start_time": "2024-08-16T19:56:28.108297Z"
    }
   },
   "source": [
    "X = pd.get_dummies(X)\n",
    "X_train, X_test, y_train, y_test = train_test_split(X, y, test_size=0.333, random_state=41)\n",
    "linear_reg_model_types = LinearRegression()\n",
    "linear_reg_model_types.fit(X_train,y_train)\n",
    "y_pred = linear_reg_model_types.predict(X_test)\n",
    "\n",
    "sme = mean_squared_error(y_test, y_pred)\n",
    "print('Mean squared error of this model is: ' + str(sme))"
   ],
   "outputs": [
    {
     "name": "stdout",
     "output_type": "stream",
     "text": [
      "Mean squared error of this model is: 1.7009813268828067e-30\n"
     ]
    }
   ],
   "execution_count": 2
  },
  {
   "cell_type": "code",
   "id": "d3798f8fc4276701",
   "metadata": {
    "ExecuteTime": {
     "end_time": "2024-08-16T19:56:28.672054Z",
     "start_time": "2024-08-16T19:56:28.228907Z"
    }
   },
   "source": [
    "#Histogram depicting the distribution of Management Indexes within the whole dataset\n",
    "sns.displot(df, x='Management Index', bins = 9)"
   ],
   "outputs": [
    {
     "data": {
      "text/plain": [
       "<seaborn.axisgrid.FacetGrid at 0x221b0c8a5d0>"
      ]
     },
     "execution_count": 3,
     "metadata": {},
     "output_type": "execute_result"
    },
    {
     "data": {
      "text/plain": [
       "<Figure size 500x500 with 1 Axes>"
      ],
      "image/png": "[encoded data removed]"
     },
     "metadata": {},
     "output_type": "display_data"
    }
   ],
   "execution_count": 3
  },
  {
   "cell_type": "code",
   "id": "1ad9124b9c7e3d93",
   "metadata": {
    "ExecuteTime": {
     "end_time": "2024-08-16T19:56:28.788931Z",
     "start_time": "2024-08-16T19:56:28.673059Z"
    }
   },
   "source": [
    "#Pie chart depicting the Behaviour grades of all students in data\n",
    "\n",
    "labels = 'Excellent', 'Satisfactory', 'Needs improvement', 'Unsatisfactory'\n",
    "sizes = [58, 32, 3, 2]\n",
    "\n",
    "fig, ax = plt.subplots()\n",
    "ax.pie(sizes, labels=labels)"
   ],
   "outputs": [
    {
     "data": {
      "text/plain": [
       "([<matplotlib.patches.Wedge at 0x221b1be2de0>,\n",
       "  <matplotlib.patches.Wedge at 0x221ac2770b0>,\n",
       "  <matplotlib.patches.Wedge at 0x221b1be36b0>,\n",
       "  <matplotlib.patches.Wedge at 0x221ac31e030>],\n",
       " [Text(-0.3743225163513971, 1.034351320273899, 'Excellent'),\n",
       "  Text(0.19896868798973275, -1.0818555639269247, 'Satisfactory'),\n",
       "  Text(1.0706592913891926, -0.252366166040522, 'Needs improvement'),\n",
       "  Text(1.097594999944599, -0.07269949172185122, 'Unsatisfactory')])"
      ]
     },
     "execution_count": 4,
     "metadata": {},
     "output_type": "execute_result"
    },
    {
     "data": {
      "text/plain": [
       "<Figure size 640x480 with 1 Axes>"
      ],
      "image/png": "[encoded data removed]"
     },
     "metadata": {},
     "output_type": "display_data"
    }
   ],
   "execution_count": 4
  },
  {
   "cell_type": "code",
   "id": "eb2cf7f367922cb3",
   "metadata": {
    "ExecuteTime": {
     "end_time": "2024-08-16T19:56:28.976454Z",
     "start_time": "2024-08-16T19:56:28.790930Z"
    }
   },
   "source": [
    "#Bar chart depicting the distribution of students based on ESL Level\n",
    "data = {'Advanced':11, 'Beginner':10, 'Intermediate':6, 'None':68}\n",
    "courses = list(data.keys())\n",
    "values = list(data.values())\n",
    "fig = plt.figure(figsize = (10, 5))\n",
    "plt.bar(courses, values, color ='Maroon', \n",
    "        width = 0.4)\n",
    "plt.xlabel(\"ESL Level\")\n",
    "plt.ylabel(\"No. of students\")\n",
    "plt.title(\"Student English as a Second Language Levels\")\n",
    "plt.show()\n"
   ],
   "outputs": [
    {
     "data": {
      "text/plain": [
       "<Figure size 1000x500 with 1 Axes>"
      ],
      "image/png": "[encoded data removed]"
     },
     "metadata": {},
     "output_type": "display_data"
    }
   ],
   "execution_count": 5
  },
  {
   "cell_type": "code",
   "id": "41afc2065365f3fb",
   "metadata": {
    "ExecuteTime": {
     "end_time": "2024-08-16T19:56:29.025782Z",
     "start_time": "2024-08-16T19:56:28.979449Z"
    }
   },
   "source": [
    "dys=widgets.RadioButtons(\n",
    "    options=['Yes', 'No'],\n",
    "    description='Dyslexia',\n",
    "    disabled=False\n",
    ")\n",
    "aLev = widgets.RadioButtons(\n",
    "    options=['High', 'Medium', 'Low'],\n",
    "    description='Academic Level',\n",
    "    disabled=False\n",
    ")\n",
    "sped = widgets.RadioButtons(\n",
    "    options=['Yes', 'No'],\n",
    "    description='Special Ed',\n",
    "    disabled=False\n",
    ")    \n",
    "esl = widgets.RadioButtons(\n",
    "    options=['None', 'Advanced', 'Intermediate', 'Beginner'],\n",
    "    description='ESL Level',\n",
    "    disabled=False\n",
    ")\n",
    "beh = widgets.RadioButtons(\n",
    "    options=['Excellent', 'Satisfactory', 'Needs Improvement', 'Unsatisfactory'],\n",
    "    description='Behaviour',\n",
    "    disabled=False\n",
    ")\n",
    "\n",
    "column_names_short = ['Dyslexia_No','Dyslexia_Yes',\n",
    "                      'Academic Level_High','Academic Level_Low','Academic Level_Medium',\n",
    "                      'Special Ed_No','Special Ed_Yes',\n",
    "                      'ESL Level_Advanced','ESL Level_Beginner','ESL Level_Intermediate',\n",
    "                      'Behavior_E', 'Behavior_N','Behavior_S', 'Behavior_U']\n",
    "\n",
    "def calSMI():\n",
    "    newStudent = []\n",
    "    if dys.value == 'Yes':\n",
    "        newStudent.append(False)\n",
    "        newStudent.append(True)\n",
    "    if dys.value == 'No':\n",
    "        newStudent.append(True)\n",
    "        newStudent.append(False)\n",
    "    if aLev.value == 'High':\n",
    "        newStudent.append(True)\n",
    "        newStudent.append(False)\n",
    "        newStudent.append(False)\n",
    "    if aLev.value == 'Medium':\n",
    "        newStudent.append(False)\n",
    "        newStudent.append(False)\n",
    "        newStudent.append(True)\n",
    "    if aLev.value == 'Low':\n",
    "        newStudent.append(False)\n",
    "        newStudent.append(True)\n",
    "        newStudent.append(False)\n",
    "    if sped.value == 'Yes':\n",
    "        newStudent.append(False)\n",
    "        newStudent.append(True)\n",
    "    if sped.value == 'No':\n",
    "        newStudent.append(True)\n",
    "        newStudent.append(False)\n",
    "    if esl.value == 'None':\n",
    "        newStudent.append(False)\n",
    "        newStudent.append(False)\n",
    "        newStudent.append(False)\n",
    "    if esl.value == 'Advanced':\n",
    "        newStudent.append(True)\n",
    "        newStudent.append(False)\n",
    "        newStudent.append(False)\n",
    "    if esl.value == 'Intermediate':\n",
    "        newStudent.append(False)\n",
    "        newStudent.append(False)\n",
    "        newStudent.append(True)\n",
    "    if esl.value == 'Beginner':\n",
    "        newStudent.append(False)\n",
    "        newStudent.append(True)\n",
    "        newStudent.append(False)\n",
    "    if beh.value == 'Excellent':\n",
    "        newStudent.append(True)\n",
    "        newStudent.append(False)\n",
    "        newStudent.append(False)\n",
    "        newStudent.append(False)\n",
    "    if beh.value == 'Satisfactory':\n",
    "        newStudent.append(False)\n",
    "        newStudent.append(False)\n",
    "        newStudent.append(True)\n",
    "        newStudent.append(False)\n",
    "    if beh.value == 'Needs Improvement':\n",
    "        newStudent.append(False)\n",
    "        newStudent.append(True)\n",
    "        newStudent.append(False)\n",
    "        newStudent.append(False)\n",
    "    if beh.value == 'Unsatisfactory':\n",
    "        newStudent.append(False)\n",
    "        newStudent.append(False)\n",
    "        newStudent.append(False)\n",
    "        newStudent.append(True)\n",
    "    input_df = pd.DataFrame(np.array([newStudent]), columns = column_names_short)\n",
    "    smi = linear_reg_model_types.predict(input_df)[0]\n",
    "    return smi\n",
    "\n",
    "def on_button_clicked(b):\n",
    "    with op:\n",
    "        print(str(calSMI()))\n",
    "\n",
    "button = widgets.Button(description=\"Get SMI\")\n",
    "output = widgets.Output()\n",
    "button.on_click(on_button_clicked)\n",
    "op = widgets.Output(layout={'border': '1px solid black'})\n",
    "row1 = widgets.HBox([dys,aLev,sped,esl,beh])\n",
    "row2 = widgets.VBox([button])\n",
    "items = [row1,row2, op]\n",
    "widgets.VBox(items)"
   ],
   "outputs": [
    {
     "data": {
      "text/plain": [
       "VBox(children=(HBox(children=(RadioButtons(description='Dyslexia', options=('Yes', 'No'), value='Yes'), RadioB…"
      ],
      "application/vnd.jupyter.widget-view+json": {
       "version_major": 2,
       "version_minor": 0,
       "model_id": "90685fb4198548da91cf84aaff3102e8"
      }
     },
     "execution_count": 6,
     "metadata": {},
     "output_type": "execute_result"
    }
   ],
   "execution_count": 6
  }
 ],
 "metadata": {
  "kernelspec": {
   "display_name": "Python 3 (ipykernel)",
   "language": "python",
   "name": "python3"
  },
  "language_info": {
   "codemirror_mode": {
    "name": "ipython",
    "version": 3
   },
   "file_extension": ".py",
   "mimetype": "text/x-python",
   "name": "python",
   "nbconvert_exporter": "python",
   "pygments_lexer": "ipython3",
   "version": "3.12.1"
  }
 },
 "nbformat": 4,
 "nbformat_minor": 5
}
